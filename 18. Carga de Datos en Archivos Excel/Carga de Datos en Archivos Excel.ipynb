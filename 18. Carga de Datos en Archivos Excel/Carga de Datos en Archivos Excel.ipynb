{
 "cells": [
  {
   "cell_type": "code",
   "execution_count": 9,
   "id": "44b45473-5b21-40b8-b53e-7f791831116e",
   "metadata": {},
   "outputs": [],
   "source": [
    "#Generacion de los archivos!\n",
    "import pandas as pd\n",
    "\n",
    "# Crear el archivo data_nueva1.xlsx\n",
    "data_nueva_1 = {\n",
    "    'id': [1, 2, 3],\n",
    "    'nombre': ['Carla', 'Laura', 'Luis'],\n",
    "    'categoria': ['A', 'B', 'C'],\n",
    "    'ventas': [120, 170, 200],\n",
    "    'año': [2024, 2023, 2024]\n",
    "}\n",
    "\n",
    "df_nueva_1 = pd.DataFrame(data_nueva_1)\n",
    "df_nueva_1.to_excel('data_nueva_1.xlsx', index=False)\n",
    "\n",
    "# Crear el archivo data_nueva2.xlsx\n",
    "data_nueva_2 = {\n",
    "    'id': [4, 5, 6],\n",
    "    'nombre': ['Carlos', 'Lucia', 'Marcos'],\n",
    "    'categoria': ['A', 'B', 'C'],\n",
    "    'ventas': [210, 180, 250],\n",
    "    'año': [2024, 2023, 2024]\n",
    "}\n",
    "\n",
    "df_nueva_2 = pd.DataFrame(data_nueva_2)\n",
    "df_nueva_2.to_excel('data_nueva_2.xlsx', index=False)"
   ]
  },
  {
   "cell_type": "code",
   "execution_count": 10,
   "id": "07d9744e-ee05-4cb0-8e3a-ef00d51ca8e7",
   "metadata": {},
   "outputs": [
    {
     "name": "stdout",
     "output_type": "stream",
     "text": [
      "Archivo completo no existe. Usando solo los datos nuevos. Total registros: 3\n",
      "Carga incremental realizada. Datos guardados en data_completa.xlsx\n"
     ]
    }
   ],
   "source": [
    "#Código para Carga Incremental con data 1:\n",
    "import pandas as pd\n",
    "import os\n",
    "\n",
    "# Ruta de los archivos Excel\n",
    "archivo_nueva_1 = 'data_nueva_1.xlsx'  # Archivo con datos nuevos (data 1)\n",
    "archivo_completo = 'data_completa.xlsx'  # Archivo donde se guardará la carga completa\n",
    "\n",
    "# Función para carga incremental con Excel\n",
    "def carga_incremental_excel(nuevos_datos_path, archivo_completo_path):\n",
    "    # Leer el archivo de datos nuevos\n",
    "    df_nuevos = pd.read_excel(nuevos_datos_path)\n",
    "    \n",
    "    # Verificar si el archivo completo ya existe\n",
    "    if os.path.exists(archivo_completo_path):\n",
    "        # Leer el archivo completo (si existe) y combinarlo con los nuevos datos\n",
    "        df_completo = pd.read_excel(archivo_completo_path)\n",
    "        # Concatenar los datos y eliminar duplicados basados en 'id'\n",
    "        df_actualizado = pd.concat([df_completo, df_nuevos]).drop_duplicates(subset=['id'], keep='last')\n",
    "        print(f\"Datos existentes combinados con los nuevos. Total registros después de la carga: {len(df_actualizado)}\")\n",
    "    else:\n",
    "        # Si el archivo no existe, usar solo los datos nuevos\n",
    "        df_actualizado = df_nuevos\n",
    "        print(f\"Archivo completo no existe. Usando solo los datos nuevos. Total registros: {len(df_actualizado)}\")\n",
    "    \n",
    "    # Guardar el archivo actualizado en Excel\n",
    "    df_actualizado.to_excel(archivo_completo_path, index=False)\n",
    "    print(f\"Carga incremental realizada. Datos guardados en {archivo_completo_path}\")\n",
    "\n",
    "# Llamar a la función con el archivo de datos nuevos 1\n",
    "carga_incremental_excel(archivo_nueva_1, archivo_completo)"
   ]
  },
  {
   "cell_type": "code",
   "execution_count": 11,
   "id": "f107c816-834b-4876-9c7b-668efa9f30ef",
   "metadata": {},
   "outputs": [
    {
     "name": "stdout",
     "output_type": "stream",
     "text": [
      "Datos existentes combinados con los nuevos. Total registros después de la carga: 6\n",
      "Carga incremental realizada. Datos guardados en data_completa.xlsx\n"
     ]
    }
   ],
   "source": [
    "#Código para Carga Incremental con data 2:\n",
    "archivo_nueva = 'data_nueva_2.xlsx'     # Archivo con datos nuevos\n",
    "archivo_completo = 'data_completa.xlsx'  # Archivo donde se guardará la carga completa\n",
    "\n",
    "# Ejecutar la función con datos nuevos (archivo completo ya existe)\n",
    "carga_incremental_excel(archivo_nueva, archivo_completo)"
   ]
  }
 ],
 "metadata": {
  "kernelspec": {
   "display_name": "Python 3 (ipykernel)",
   "language": "python",
   "name": "python3"
  },
  "language_info": {
   "codemirror_mode": {
    "name": "ipython",
    "version": 3
   },
   "file_extension": ".py",
   "mimetype": "text/x-python",
   "name": "python",
   "nbconvert_exporter": "python",
   "pygments_lexer": "ipython3",
   "version": "3.12.7"
  }
 },
 "nbformat": 4,
 "nbformat_minor": 5
}
