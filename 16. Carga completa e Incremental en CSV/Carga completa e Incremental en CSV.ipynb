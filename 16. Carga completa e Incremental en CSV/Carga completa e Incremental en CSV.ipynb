{
 "cells": [
  {
   "cell_type": "code",
   "execution_count": 1,
   "id": "1ea9b6cc-3053-4acb-b00a-2d8627f4b54b",
   "metadata": {},
   "outputs": [
    {
     "name": "stdout",
     "output_type": "stream",
     "text": [
      "Archivo completo no existe. Usando solo los datos nuevos. Total registros: 3\n",
      "Carga incremental realizada. Datos guardados en C:/Users/layla/Escritorio/Fundamentos de ETL con Python/Codigos y Notebooks/16. Carga completa e Incremental en CSV/data_completo.csv\n"
     ]
    }
   ],
   "source": [
    "#Escenario inicial\n",
    "import pandas as pd\n",
    "import os\n",
    "\n",
    "# Rutas de los archivos\n",
    "archivo_nueva = 'C:/Users/layla/Escritorio/Fundamentos de ETL con Python/Codigos y Notebooks/16. Carga completa e Incremental en CSV/data_nueva_1.csv'     # Archivo con datos nuevos\n",
    "archivo_completo = 'C:/Users/layla/Escritorio/Fundamentos de ETL con Python/Codigos y Notebooks/16. Carga completa e Incremental en CSV/data_completo.csv' # Archivo que contendrá todos los datos combinados\n",
    "\n",
    "# Cargar datos existentes y realizar carga incremental\n",
    "def carga_incremental(nuevos_datos_path, archivo_completo_path):\n",
    "    # Leer el archivo de datos nuevos\n",
    "    df_nuevos = pd.read_csv(nuevos_datos_path)\n",
    "    \n",
    "    # Verificar si el archivo completo ya existe\n",
    "    if os.path.exists(archivo_completo_path):\n",
    "        # Si el archivo existe, cargar los datos existentes\n",
    "        df_completo = pd.read_csv(archivo_completo_path)\n",
    "        # Concatenar los datos nuevos con los existentes\n",
    "        df_actualizado = pd.concat([df_completo, df_nuevos], ignore_index=True)\n",
    "        # Eliminar duplicados basados en la columna 'id' (o cualquier otra clave única)\n",
    "        df_actualizado = df_actualizado.drop_duplicates(subset=['id'], keep='last')\n",
    "        print(f\"Datos existentes combinados con los nuevos. Total registros después de la carga: {len(df_actualizado)}\")\n",
    "    else:\n",
    "        # Si el archivo no existe, usar solo los datos nuevos\n",
    "        df_actualizado = df_nuevos\n",
    "        print(f\"Archivo completo no existe. Usando solo los datos nuevos. Total registros: {len(df_actualizado)}\")\n",
    "    \n",
    "    # Guardar el archivo actualizado (si es nuevo o se combinó)\n",
    "    df_actualizado.to_csv(archivo_completo_path, index=False)\n",
    "    print(f\"Carga incremental realizada. Datos guardados en {archivo_completo_path}\")\n",
    "\n",
    "# Ejecutar la función con datos nuevos (archivo completo puede no existir al principio)\n",
    "carga_incremental(archivo_nueva, archivo_completo)"
   ]
  },
  {
   "cell_type": "code",
   "execution_count": 2,
   "id": "3251cf3c-bf34-4c37-8e7c-7a58d26d14cd",
   "metadata": {},
   "outputs": [
    {
     "name": "stdout",
     "output_type": "stream",
     "text": [
      "Datos existentes combinados con los nuevos. Total registros después de la carga: 6\n",
      "Carga incremental realizada. Datos guardados en C:/Users/layla/Escritorio/Fundamentos de ETL con Python/Codigos y Notebooks/16. Carga completa e Incremental en CSV/data_completo.csv\n"
     ]
    }
   ],
   "source": [
    "#Carga incremental\n",
    "archivo_nueva = 'C:/Users/layla/Escritorio/Fundamentos de ETL con Python/Codigos y Notebooks/16. Carga completa e Incremental en CSV/data_nueva_2.csv'     # Archivo con datos nuevos\n",
    "archivo_completo = 'C:/Users/layla/Escritorio/Fundamentos de ETL con Python/Codigos y Notebooks/16. Carga completa e Incremental en CSV/data_completo.csv'  # Archivo donde se guardará la carga completa\n",
    "\n",
    "# Ejecutar la función con datos nuevos (archivo completo ya existe)\n",
    "carga_incremental(archivo_nueva, archivo_completo)"
   ]
  }
 ],
 "metadata": {
  "kernelspec": {
   "display_name": "Python 3 (ipykernel)",
   "language": "python",
   "name": "python3"
  },
  "language_info": {
   "codemirror_mode": {
    "name": "ipython",
    "version": 3
   },
   "file_extension": ".py",
   "mimetype": "text/x-python",
   "name": "python",
   "nbconvert_exporter": "python",
   "pygments_lexer": "ipython3",
   "version": "3.12.7"
  }
 },
 "nbformat": 4,
 "nbformat_minor": 5
}
