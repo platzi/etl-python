{
 "cells": [
  {
   "cell_type": "code",
   "execution_count": 2,
   "id": "88af5c92-bb05-4a65-83b0-a72c23aaf7f9",
   "metadata": {},
   "outputs": [
    {
     "name": "stdout",
     "output_type": "stream",
     "text": [
      "Partición guardada en data_2023.csv\n",
      "Partición guardada en data_2024.csv\n"
     ]
    }
   ],
   "source": [
    "#Particionamiento de Datos - Ruta por default\n",
    "import pandas as pd\n",
    "\n",
    "# Ruta del archivo data_completa.csv\n",
    "archivo_completo = 'D:/Lay/Docencia/Platzi/Fundamentos de ETL con Python/Codigos y Notebooks/17. Particionado de Datos en CSV/data_completo.csv'\n",
    "\n",
    "# Función para particionar los datos por año\n",
    "def particion_por_año(archivo_completo_path):\n",
    "    # Leer el archivo completo\n",
    "    df = pd.read_csv(archivo_completo_path)\n",
    "    \n",
    "    # Particionar por año\n",
    "    for año, df_año in df.groupby('año'):\n",
    "        # Crear el nombre del archivo para cada año\n",
    "        nombre_archivo = f\"data_{año}.csv\"\n",
    "        # Guardar el DataFrame del año en un archivo CSV\n",
    "        df_año.to_csv(nombre_archivo, index=False)\n",
    "        print(f\"Partición guardada en {nombre_archivo}\")\n",
    "\n",
    "# Llamar a la función para particionar el archivo por año\n",
    "particion_por_año(archivo_completo)"
   ]
  },
  {
   "cell_type": "code",
   "execution_count": 3,
   "id": "66a0754f-020e-4b77-bdda-f6880cc35d16",
   "metadata": {},
   "outputs": [
    {
     "name": "stdout",
     "output_type": "stream",
     "text": [
      "Partición guardada en D:/Lay/Docencia/Platzi/Fundamentos de ETL con Python/Codigos y Notebooks/17. Particionado de Datos en CSV/data_2023.csv\n",
      "Partición guardada en D:/Lay/Docencia/Platzi/Fundamentos de ETL con Python/Codigos y Notebooks/17. Particionado de Datos en CSV/data_2024.csv\n"
     ]
    }
   ],
   "source": [
    "#Particionamiento de Datos - Ruta personalizada\n",
    "import pandas as pd\n",
    "import os\n",
    "\n",
    "# Ruta del archivo data_completa.csv\n",
    "archivo_completo = 'D:/Lay/Docencia/Platzi/Fundamentos de ETL con Python/Codigos y Notebooks/17. Particionado de Datos en CSV/data_completo.csv'\n",
    "\n",
    "# Ruta de destino para los archivos particionados\n",
    "ruta_destino = 'D:/Lay/Docencia/Platzi/Fundamentos de ETL con Python/Codigos y Notebooks/17. Particionado de Datos en CSV/'\n",
    "\n",
    "# Función para particionar los datos por año\n",
    "def particion_por_año(archivo_completo_path, ruta_destino):\n",
    "    # Leer el archivo completo\n",
    "    df = pd.read_csv(archivo_completo_path)\n",
    "    \n",
    "    # Particionar por año\n",
    "    for año, df_año in df.groupby('año'):\n",
    "        # Crear el nombre del archivo para cada año en la ruta de destino\n",
    "        nombre_archivo = os.path.join(ruta_destino, f\"data_{año}.csv\")\n",
    "        # Guardar el DataFrame del año en un archivo CSV\n",
    "        df_año.to_csv(nombre_archivo, index=False)\n",
    "        print(f\"Partición guardada en {nombre_archivo}\")\n",
    "\n",
    "# Llamar a la función para particionar el archivo por año\n",
    "particion_por_año(archivo_completo, ruta_destino)"
   ]
  }
 ],
 "metadata": {
  "kernelspec": {
   "display_name": "Python 3 (ipykernel)",
   "language": "python",
   "name": "python3"
  },
  "language_info": {
   "codemirror_mode": {
    "name": "ipython",
    "version": 3
   },
   "file_extension": ".py",
   "mimetype": "text/x-python",
   "name": "python",
   "nbconvert_exporter": "python",
   "pygments_lexer": "ipython3",
   "version": "3.12.7"
  }
 },
 "nbformat": 4,
 "nbformat_minor": 5
}
