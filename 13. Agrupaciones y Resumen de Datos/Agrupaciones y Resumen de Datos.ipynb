{
 "cells": [
  {
   "cell_type": "code",
   "execution_count": 1,
   "id": "8427e477-a4a7-4cc1-bc13-8ffdf6bb9838",
   "metadata": {},
   "outputs": [
    {
     "name": "stdout",
     "output_type": "stream",
     "text": [
      "DataFrame Original (Leído desde el CSV):\n",
      "   ID  Nombre             Edad Genero  Salario Departamento\n",
      "0   1     Ana               25      F  50000.0       Ventas\n",
      "1   2    Luis               30      M      NaN    Marketing\n",
      "2   3  Carlos  Treinta y cinco      M  60000.0       Ventas\n",
      "3   4   Sofia               40      F  55000.0         RRHH\n",
      "4   5     NaN               45      M  70000.0           TI\n"
     ]
    }
   ],
   "source": [
    "import pandas as pd\n",
    "import numpy as np\n",
    "\n",
    "# 1. Leer el archivo CSV generado\n",
    "df = pd.read_csv('C:/Users/layla/Escritorio/Fundamentos de ETL con Python/Codigos y Notebooks/13. Agrupaciones y Resumen de Datos/datos_ejemplo.csv')\n",
    "\n",
    "# Mostrar el DataFrame original\n",
    "print(\"DataFrame Original (Leído desde el CSV):\")\n",
    "print(df)"
   ]
  },
  {
   "cell_type": "code",
   "execution_count": 2,
   "id": "36578fcb-e3bc-4bb3-b628-ce12c619a74a",
   "metadata": {},
   "outputs": [
    {
     "name": "stdout",
     "output_type": "stream",
     "text": [
      "\n",
      "DataFrame después de rellenar los valores NaN de 'Salario' con la media:\n",
      "   ID  Nombre  Edad Genero  Salario Departamento\n",
      "0   1     Ana  25.0      F  50000.0       Ventas\n",
      "1   2    Luis  30.0      M  58750.0    Marketing\n",
      "2   3  Carlos   NaN      M  60000.0       Ventas\n",
      "3   4   Sofia  40.0      F  55000.0         RRHH\n",
      "4   5     NaN  45.0      M  70000.0           TI\n"
     ]
    }
   ],
   "source": [
    "# --------------------------------------------\n",
    "# 2. Convertir la columna 'Edad' a valores numéricos\n",
    "# --------------------------------------------\n",
    "df['Edad'] = pd.to_numeric(df['Edad'], errors='coerce')  # Convertir 'Edad' a valores numéricos\n",
    "\n",
    "# --------------------------------------------\n",
    "# 3. Manejo de valores faltantes (NaN) en 'Salario'\n",
    "# --------------------------------------------\n",
    "\n",
    "# Rellenar valores NaN con la media de la columna 'Salario'\n",
    "media_salario = df['Salario'].mean()  # Calcular la media de 'Salario'\n",
    "df['Salario'] = df['Salario'].fillna(media_salario)  # Rellenar los NaN con la media\n",
    "\n",
    "print(\"\\nDataFrame después de rellenar los valores NaN de 'Salario' con la media:\")\n",
    "print(df)"
   ]
  },
  {
   "cell_type": "code",
   "execution_count": 3,
   "id": "9ebd3448-a0e1-4359-810c-34c9cd7fc419",
   "metadata": {},
   "outputs": [
    {
     "name": "stdout",
     "output_type": "stream",
     "text": [
      "\n",
      "Promedio de 'Salario' por 'Departamento':\n",
      "Departamento\n",
      "Marketing    58750.0\n",
      "RRHH         55000.0\n",
      "TI           70000.0\n",
      "Ventas       55000.0\n",
      "Name: Salario, dtype: float64\n",
      "\n",
      "Estadísticas descriptivas de 'Salario' por 'Genero':\n",
      "        count          mean          std      min      25%      50%      75%  \\\n",
      "Genero                                                                         \n",
      "F         2.0  52500.000000  3535.533906  50000.0  51250.0  52500.0  53750.0   \n",
      "M         3.0  62916.666667  6166.103578  58750.0  59375.0  60000.0  65000.0   \n",
      "\n",
      "            max  \n",
      "Genero           \n",
      "F       55000.0  \n",
      "M       70000.0  \n",
      "\n",
      "Estadísticas agregadas de 'Salario' por 'Departamento' (media, desviación estándar, y suma):\n",
      "                 mean       sum\n",
      "Departamento                   \n",
      "Marketing     58750.0   58750.0\n",
      "RRHH          55000.0   55000.0\n",
      "TI            70000.0   70000.0\n",
      "Ventas        55000.0  110000.0\n",
      "\n",
      "Promedio de 'Salario' para cada 'Departamento' donde 'Edad' > 30 años:\n",
      "Departamento\n",
      "RRHH    55000.0\n",
      "TI      70000.0\n",
      "Name: Salario, dtype: float64\n",
      "\n",
      "Promedio de 'Salario' por 'Departamento' y 'Genero':\n",
      "Departamento  Genero\n",
      "Marketing     M         58750.0\n",
      "RRHH          F         55000.0\n",
      "TI            M         70000.0\n",
      "Ventas        F         50000.0\n",
      "              M         60000.0\n",
      "Name: Salario, dtype: float64\n",
      "\n",
      "Restablecer el índice después de agrupar:\n",
      "  Departamento  Salario\n",
      "0    Marketing  58750.0\n",
      "1         RRHH  55000.0\n",
      "2           TI  70000.0\n",
      "3       Ventas  55000.0\n"
     ]
    }
   ],
   "source": [
    "# --------------------------------------------\n",
    "# 4. Uso de groupby() y funciones estadísticas de agregación\n",
    "# --------------------------------------------\n",
    "\n",
    "# 4.1 Agrupar por 'Departamento' y calcular la media de 'Salario'\n",
    "print(\"\\nPromedio de 'Salario' por 'Departamento':\")\n",
    "grupo_departamento = df.groupby('Departamento')['Salario'].mean()  # Calcular el promedio de 'Salario' por 'Departamento'\n",
    "print(grupo_departamento)\n",
    "\n",
    "# 4.2 Agrupar por 'Genero' y calcular estadísticas descriptivas\n",
    "print(\"\\nEstadísticas descriptivas de 'Salario' por 'Genero':\")\n",
    "grupo_genero = df.groupby('Genero')['Salario'].describe()  # Estadísticas descriptivas: count, mean, std, min, 25%, 50%, 75%, max\n",
    "print(grupo_genero)\n",
    "\n",
    "# 4.3 Agrupar por 'Departamento' y calcular varias estadísticas con .agg()\n",
    "print(\"\\nEstadísticas agregadas de 'Salario' por 'Departamento' (media, desviación estándar, y suma):\")\n",
    "grupo_agregados = df.groupby('Departamento')['Salario'].agg(['mean', 'sum'])  # Varias estadísticas con agg()\n",
    "print(grupo_agregados)\n",
    "\n",
    "# 4.4 Filtrar y aplicar funciones agregadas\n",
    "print(\"\\nPromedio de 'Salario' para cada 'Departamento' donde 'Edad' > 30 años:\")\n",
    "# Filtrar primero por 'Edad' > 30 y luego agrupar por 'Departamento' y calcular la media de 'Salario'\n",
    "grupo_edad = df[df['Edad'] > 30].groupby('Departamento')['Salario'].mean()\n",
    "print(grupo_edad)\n",
    "\n",
    "# 4.5 Agrupación por múltiples columnas y cálculo de estadísticas\n",
    "print(\"\\nPromedio de 'Salario' por 'Departamento' y 'Genero':\")\n",
    "# Agrupamos por 'Departamento' y 'Genero' y calculamos la media de 'Salario'\n",
    "grupo_multiple = df.groupby(['Departamento', 'Genero'])['Salario'].mean()\n",
    "print(grupo_multiple)\n",
    "\n",
    "# 4.6 Uso de reset_index() para volver a convertir el índice en columnas\n",
    "print(\"\\nRestablecer el índice después de agrupar:\")\n",
    "# Después de agrupar, el índice del DataFrame resultante es el valor de la columna agrupada.\n",
    "# Usamos 'reset_index()' para convertir el índice en una columna normal.\n",
    "grupo_reset = df.groupby('Departamento')['Salario'].mean().reset_index()\n",
    "print(grupo_reset)"
   ]
  },
  {
   "cell_type": "code",
   "execution_count": 4,
   "id": "38ca5b5f-6c52-4fe9-a66f-0f69c19e1f13",
   "metadata": {},
   "outputs": [
    {
     "name": "stdout",
     "output_type": "stream",
     "text": [
      "\n",
      "Desviación estándar de 'Salario' por 'Genero':\n",
      "Genero\n",
      "F    3535.533906\n",
      "M    6166.103578\n",
      "Name: Salario, dtype: float64\n",
      "\n",
      "Valor máximo y mínimo de 'Salario' por 'Departamento':\n",
      "                  max      min\n",
      "Departamento                  \n",
      "Marketing     58750.0  58750.0\n",
      "RRHH          55000.0  55000.0\n",
      "TI            70000.0  70000.0\n",
      "Ventas        60000.0  50000.0\n",
      "\n",
      "Mediana de 'Salario' por 'Genero':\n",
      "Genero\n",
      "F    52500.0\n",
      "M    60000.0\n",
      "Name: Salario, dtype: float64\n"
     ]
    }
   ],
   "source": [
    "# --------------------------------------------\n",
    "# 5. Funciones estadísticas avanzadas\n",
    "# --------------------------------------------\n",
    "print(\"\\nDesviación estándar de 'Salario' por 'Genero':\")\n",
    "# Desviación estándar de 'Salario' por 'Genero'\n",
    "desviacion_genero = df.groupby('Genero')['Salario'].std()\n",
    "print(desviacion_genero)\n",
    "\n",
    "print(\"\\nValor máximo y mínimo de 'Salario' por 'Departamento':\")\n",
    "# Usamos las cadenas 'max' y 'min' en lugar de las funciones max y min\n",
    "max_min_salario = df.groupby('Departamento')['Salario'].agg(['max', 'min'])  # Utilizando las cadenas \"max\" y \"min\"\n",
    "print(max_min_salario)\n",
    "\n",
    "print(\"\\nMediana de 'Salario' por 'Genero':\")\n",
    "# Mediana de 'Salario' por 'Genero'\n",
    "mediana_genero = df.groupby('Genero')['Salario'].median()\n",
    "print(mediana_genero)"
   ]
  }
 ],
 "metadata": {
  "kernelspec": {
   "display_name": "Python 3 (ipykernel)",
   "language": "python",
   "name": "python3"
  },
  "language_info": {
   "codemirror_mode": {
    "name": "ipython",
    "version": 3
   },
   "file_extension": ".py",
   "mimetype": "text/x-python",
   "name": "python",
   "nbconvert_exporter": "python",
   "pygments_lexer": "ipython3",
   "version": "3.12.7"
  }
 },
 "nbformat": 4,
 "nbformat_minor": 5
}
