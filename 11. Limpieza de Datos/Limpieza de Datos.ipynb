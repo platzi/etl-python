{
 "cells": [
  {
   "cell_type": "code",
   "execution_count": 1,
   "id": "37fad183-57f6-454e-ab72-ccf1ce049a89",
   "metadata": {
    "scrolled": true
   },
   "outputs": [
    {
     "name": "stdout",
     "output_type": "stream",
     "text": [
      "DataFrame Original (Leído desde el CSV):\n",
      "   ID  Nombre             Edad Genero  Salario Departamento\n",
      "0   1     Ana               25      F  50000.0       Ventas\n",
      "1   2    Luis               30      M      NaN    Marketing\n",
      "2   3  Carlos  Treinta y cinco      M  60000.0       Ventas\n",
      "3   4   Sofia               40      F  55000.0         RRHH\n",
      "4   5     NaN               45      M  70000.0           TI\n"
     ]
    }
   ],
   "source": [
    "# --------------------------------------------\n",
    "# 1. Leer el archivo CSV generado\n",
    "# --------------------------------------------\n",
    "\n",
    "# Leer el archivo CSV\n",
    "import pandas as pd\n",
    "df = pd.read_csv('C:/Users/layla/Escritorio/Fundamentos de ETL con Python/Codigos y Notebooks/11. Limpieza de Datos/datos_ejemplo.csv')\n",
    "\n",
    "# Mostrar el DataFrame original\n",
    "print(\"DataFrame Original (Leído desde el CSV):\")\n",
    "print(df)"
   ]
  },
  {
   "cell_type": "code",
   "execution_count": 2,
   "id": "d1a8433e-7c8d-40db-b2a1-d91a9e6fd7ee",
   "metadata": {},
   "outputs": [
    {
     "name": "stdout",
     "output_type": "stream",
     "text": [
      "\n",
      "Valores nulos por columna:\n",
      "ID              0\n",
      "Nombre          1\n",
      "Edad            0\n",
      "Genero          0\n",
      "Salario         1\n",
      "Departamento    0\n",
      "dtype: int64\n",
      "\n",
      "DataFrame después de eliminar nulos:\n",
      "   ID  Nombre             Edad Genero  Salario Departamento\n",
      "0   1     Ana               25      F  50000.0       Ventas\n",
      "2   3  Carlos  Treinta y cinco      M  60000.0       Ventas\n",
      "3   4   Sofia               40      F  55000.0         RRHH\n",
      "\n",
      "DataFrame después de rellenar nulos:\n",
      "   ID       Nombre             Edad Genero  Salario Departamento\n",
      "0   1          Ana               25      F  50000.0       Ventas\n",
      "1   2         Luis               30      M      0.0    Marketing\n",
      "2   3       Carlos  Treinta y cinco      M  60000.0       Ventas\n",
      "3   4        Sofia               40      F  55000.0         RRHH\n",
      "4   5  Desconocido               45      M  70000.0           TI\n"
     ]
    }
   ],
   "source": [
    "# --------------------------------------------\n",
    "# 2. Manejo de valores nulos\n",
    "# --------------------------------------------\n",
    "print(\"\\nValores nulos por columna:\")\n",
    "print(df.isnull().sum())  # Verificar valores nulos\n",
    "\n",
    "# Eliminar las filas que contienen valores nulos\n",
    "df_sin_nulos = df.dropna()\n",
    "\n",
    "# Rellenar los valores nulos con un valor específico (por ejemplo, 0 o 'Desconocido')\n",
    "df_rellenado = df.fillna({'Salario': 0, 'Nombre': 'Desconocido'})\n",
    "\n",
    "print(\"\\nDataFrame después de eliminar nulos:\")\n",
    "print(df_sin_nulos)\n",
    "\n",
    "print(\"\\nDataFrame después de rellenar nulos:\")\n",
    "print(df_rellenado)"
   ]
  },
  {
   "cell_type": "code",
   "execution_count": 3,
   "id": "24b42735-ea76-4a63-a12f-d2cea6eccb47",
   "metadata": {},
   "outputs": [
    {
     "name": "stdout",
     "output_type": "stream",
     "text": [
      "\n",
      "Tipos de datos antes de la corrección:\n",
      "ID                int64\n",
      "Nombre           object\n",
      "Edad            float64\n",
      "Genero           object\n",
      "Salario         float64\n",
      "Departamento     object\n",
      "dtype: object\n",
      "\n",
      "Tipos de datos después de la corrección:\n",
      "ID                int64\n",
      "Nombre           object\n",
      "Edad            float64\n",
      "Genero           object\n",
      "Salario         float64\n",
      "Departamento     object\n",
      "dtype: object\n",
      "\n",
      "DataFrame corregido:\n",
      "   ID  Nombre  Edad Genero  Salario Departamento\n",
      "0   1     Ana  25.0      F  50000.0       Ventas\n",
      "1   2    Luis  30.0      M      NaN    Marketing\n",
      "2   3  Carlos  35.0      M  60000.0       Ventas\n",
      "3   4   Sofia  40.0      F  55000.0         RRHH\n",
      "4   5     NaN  45.0      M  70000.0           TI\n"
     ]
    }
   ],
   "source": [
    "# --------------------------------------------\n",
    "# 3. Detección y corrección de errores en los tipos de datos\n",
    "# --------------------------------------------\n",
    "# Intentar convertir la columna 'Edad' a numérica\n",
    "df['Edad'] = pd.to_numeric(df['Edad'], errors='coerce')\n",
    "\n",
    "# Ver los tipos de datos de las columnas\n",
    "print(\"\\nTipos de datos antes de la corrección:\")\n",
    "print(df.dtypes)\n",
    "\n",
    "# Corregir valores no numéricos en 'Edad' (por ejemplo, convertir a NaN)\n",
    "df['Edad'] = df['Edad'].fillna(df['Edad'].mean())  # Rellenar los NaN con el promedio de la columna\n",
    "\n",
    "# Ver los tipos de datos después de la corrección\n",
    "print(\"\\nTipos de datos después de la corrección:\")\n",
    "print(df.dtypes)\n",
    "\n",
    "# Ver el DataFrame corregido\n",
    "print(\"\\nDataFrame corregido:\")\n",
    "print(df)"
   ]
  },
  {
   "cell_type": "code",
   "execution_count": 4,
   "id": "5fbdd6a8-c0f8-4bc5-99db-c8ae728c5153",
   "metadata": {},
   "outputs": [
    {
     "name": "stdout",
     "output_type": "stream",
     "text": [
      "\n",
      "DataFrame con variables categóricas convertidas:\n",
      "   ID  Nombre  Edad  Genero  Salario  Departamento_RRHH  Departamento_TI  \\\n",
      "0   1     Ana  25.0       0  50000.0              False            False   \n",
      "1   2    Luis  30.0       1      NaN              False            False   \n",
      "2   3  Carlos  35.0       1  60000.0              False            False   \n",
      "3   4   Sofia  40.0       0  55000.0               True            False   \n",
      "4   5     NaN  45.0       1  70000.0              False             True   \n",
      "\n",
      "   Departamento_Ventas  \n",
      "0                 True  \n",
      "1                False  \n",
      "2                 True  \n",
      "3                False  \n",
      "4                False  \n"
     ]
    }
   ],
   "source": [
    "# --------------------------------------------\n",
    "# 4. Conversión de variables categóricas en números\n",
    "# --------------------------------------------\n",
    "# Conversión de variables categóricas en números\n",
    "df['Genero'] = df['Genero'].map({'F': 0, 'M': 1})  # 'F' -> 0, 'M' -> 1\n",
    "\n",
    "# Usar la técnica de 'get_dummies' para convertir 'Departamento' en variables dummy\n",
    "df = pd.get_dummies(df, columns=['Departamento'], drop_first=True)\n",
    "\n",
    "# Ver el DataFrame final\n",
    "print(\"\\nDataFrame con variables categóricas convertidas:\")\n",
    "print(df)"
   ]
  }
 ],
 "metadata": {
  "kernelspec": {
   "display_name": "Python 3 (ipykernel)",
   "language": "python",
   "name": "python3"
  },
  "language_info": {
   "codemirror_mode": {
    "name": "ipython",
    "version": 3
   },
   "file_extension": ".py",
   "mimetype": "text/x-python",
   "name": "python",
   "nbconvert_exporter": "python",
   "pygments_lexer": "ipython3",
   "version": "3.12.7"
  }
 },
 "nbformat": 4,
 "nbformat_minor": 5
}
