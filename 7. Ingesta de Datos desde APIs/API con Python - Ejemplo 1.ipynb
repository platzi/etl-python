{
 "cells": [
  {
   "cell_type": "markdown",
   "metadata": {},
   "source": [
    "# API - Requests.get"
   ]
  },
  {
   "cell_type": "code",
   "execution_count": 2,
   "metadata": {},
   "outputs": [],
   "source": [
    "import requests \n",
    "import json\n",
    "import pandas as pd\n",
    "\n",
    "url = 'https://raw.githubusercontent.com/bttmly/nba/master/data/teams.json'"
   ]
  },
  {
   "cell_type": "markdown",
   "metadata": {},
   "source": [
    "Hacemos un get de la url y nos da una respuesta. Si la respuesta da 200 es que la conexión fue exitosa \n"
   ]
  },
  {
   "cell_type": "code",
   "execution_count": 3,
   "metadata": {},
   "outputs": [
    {
     "name": "stdout",
     "output_type": "stream",
     "text": [
      "<Response [200]>\n"
     ]
    }
   ],
   "source": [
    "respuesta = requests.get(url)\n",
    "print(respuesta)"
   ]
  },
  {
   "cell_type": "markdown",
   "metadata": {},
   "source": [
    "Haciendo respuesta.text devuelve la información en str"
   ]
  },
  {
   "cell_type": "code",
   "execution_count": 4,
   "metadata": {},
   "outputs": [
    {
     "data": {
      "text/plain": [
       "'[\\n  {\\n    \"teamId\": 1610612737,\\n    \"abbreviation\": \"ATL\",\\n    \"teamName\": \"Atlanta Hawks\",\\n    \"simpleName\": \"Hawks\",\\n    \"location\": \"Atlanta\"\\n  },\\n  {\\n    \"teamId\": 1610612738,\\n    \"abbreviation\": \"BOS\",\\n    \"teamName\": \"Boston Celtics\",\\n    \"simpleName\": \"Celtics\",\\n    \"location\": \"Boston\"\\n  },\\n  {\\n    \"teamId\": 1610612751,\\n    \"abbreviation\": \"BKN\",\\n    \"teamName\": \"Brooklyn Nets\",\\n    \"simpleName\": \"Nets\",\\n    \"location\": \"Brooklyn\"\\n  },\\n  {\\n    \"teamId\": 1610612766,\\n    \"abbreviation\": \"CHA\",\\n    \"teamName\": \"Charlotte Hornets\",\\n    \"simpleName\": \"Hornets\",\\n    \"location\": \"Charlotte\"\\n  },\\n  {\\n    \"teamId\": 1610612741,\\n    \"abbreviation\": \"CHI\",\\n    \"teamName\": \"Chicago Bulls\",\\n    \"simpleName\": \"Bulls\",\\n    \"location\": \"Chicago\"\\n  },\\n  {\\n    \"teamId\": 1610612739,\\n    \"abbreviation\": \"CLE\",\\n    \"teamName\": \"Cleveland Cavaliers\",\\n    \"simpleName\": \"Cavaliers\",\\n    \"location\": \"Cleveland\"\\n  },\\n  {\\n    \"teamId\": 1610612742,\\n    \"abbreviation\": \"DAL\",\\n    \"teamName\": \"Dallas Mavericks\",\\n    \"simpleName\": \"Mavericks\",\\n    \"location\": \"Dallas\"\\n  },\\n  {\\n    \"teamId\": 1610612743,\\n    \"abbreviation\": \"DEN\",\\n    \"teamName\": \"Denver Nuggets\",\\n    \"simpleName\": \"Nuggets\",\\n    \"location\": \"Denver\"\\n  },\\n  {\\n    \"teamId\": 1610612765,\\n    \"abbreviation\": \"DET\",\\n    \"teamName\": \"Detroit Pistons\",\\n    \"simpleName\": \"Pistons\",\\n    \"location\": \"Detroit\"\\n  },\\n  {\\n    \"teamId\": 1610612744,\\n    \"abbreviation\": \"GSW\",\\n    \"teamName\": \"Golden State Warriors\",\\n    \"simpleName\": \"Warriors\",\\n    \"location\": \"Golden State\"\\n  },\\n  {\\n    \"teamId\": 1610612745,\\n    \"abbreviation\": \"HOU\",\\n    \"teamName\": \"Houston Rockets\",\\n    \"simpleName\": \"Rockets\",\\n    \"location\": \"Houston\"\\n  },\\n  {\\n    \"teamId\": 1610612754,\\n    \"abbreviation\": \"IND\",\\n    \"teamName\": \"Indiana Pacers\",\\n    \"simpleName\": \"Pacers\",\\n    \"location\": \"Indiana\"\\n  },\\n  {\\n    \"teamId\": 1610612746,\\n    \"abbreviation\": \"LAC\",\\n    \"teamName\": \"Los Angeles Clippers\",\\n    \"simpleName\": \"Clippers\",\\n    \"location\": \"Los Angeles\"\\n  },\\n  {\\n    \"teamId\": 1610612747,\\n    \"abbreviation\": \"LAL\",\\n    \"teamName\": \"Los Angeles Lakers\",\\n    \"simpleName\": \"Lakers\",\\n    \"location\": \"Los Angeles\"\\n  },\\n  {\\n    \"teamId\": 1610612763,\\n    \"abbreviation\": \"MEM\",\\n    \"teamName\": \"Memphis Grizzlies\",\\n    \"simpleName\": \"Grizzlies\",\\n    \"location\": \"Memphis\"\\n  },\\n  {\\n    \"teamId\": 1610612748,\\n    \"abbreviation\": \"MIA\",\\n    \"teamName\": \"Miami Heat\",\\n    \"simpleName\": \"Heat\",\\n    \"location\": \"Miami\"\\n  },\\n  {\\n    \"teamId\": 1610612749,\\n    \"abbreviation\": \"MIL\",\\n    \"teamName\": \"Milwaukee Bucks\",\\n    \"simpleName\": \"Bucks\",\\n    \"location\": \"Milwaukee\"\\n  },\\n  {\\n    \"teamId\": 1610612750,\\n    \"abbreviation\": \"MIN\",\\n    \"teamName\": \"Minnesota Timberwolves\",\\n    \"simpleName\": \"Timberwolves\",\\n    \"location\": \"Minnesota\"\\n  },\\n  {\\n    \"teamId\": 1610612740,\\n    \"abbreviation\": \"NOP\",\\n    \"teamName\": \"New Orleans Pelicans\",\\n    \"simpleName\": \"Pelicans\",\\n    \"location\": \"New Orleans\"\\n  },\\n  {\\n    \"teamId\": 1610612752,\\n    \"abbreviation\": \"NYK\",\\n    \"teamName\": \"New York Knicks\",\\n    \"simpleName\": \"Knicks\",\\n    \"location\": \"New York\"\\n  },\\n  {\\n    \"teamId\": 1610612760,\\n    \"abbreviation\": \"OKC\",\\n    \"teamName\": \"Oklahoma City Thunder\",\\n    \"simpleName\": \"Thunder\",\\n    \"location\": \"Oklahoma City\"\\n  },\\n  {\\n    \"teamId\": 1610612753,\\n    \"abbreviation\": \"ORL\",\\n    \"teamName\": \"Orlando Magic\",\\n    \"simpleName\": \"Magic\",\\n    \"location\": \"Orlando\"\\n  },\\n  {\\n    \"teamId\": 1610612755,\\n    \"abbreviation\": \"PHI\",\\n    \"teamName\": \"Philadelphia 76ers\",\\n    \"simpleName\": \"76ers\",\\n    \"location\": \"Philadelphia\"\\n  },\\n  {\\n    \"teamId\": 1610612756,\\n    \"abbreviation\": \"PHX\",\\n    \"teamName\": \"Phoenix Suns\",\\n    \"simpleName\": \"Suns\",\\n    \"location\": \"Phoenix\"\\n  },\\n  {\\n    \"teamId\": 1610612757,\\n    \"abbreviation\": \"POR\",\\n    \"teamName\": \"Portland Trail Blazers\",\\n    \"simpleName\": \"Trail Blazers\",\\n    \"location\": \"Portland\"\\n  },\\n  {\\n    \"teamId\": 1610612758,\\n    \"abbreviation\": \"SAC\",\\n    \"teamName\": \"Sacramento Kings\",\\n    \"simpleName\": \"Kings\",\\n    \"location\": \"Sacramento\"\\n  },\\n  {\\n    \"teamId\": 1610612759,\\n    \"abbreviation\": \"SAS\",\\n    \"teamName\": \"San Antonio Spurs\",\\n    \"simpleName\": \"Spurs\",\\n    \"location\": \"San Antonio\"\\n  },\\n  {\\n    \"teamId\": 1610612761,\\n    \"abbreviation\": \"TOR\",\\n    \"teamName\": \"Toronto Raptors\",\\n    \"simpleName\": \"Raptors\",\\n    \"location\": \"Toronto\"\\n  },\\n  {\\n    \"teamId\": 1610612762,\\n    \"abbreviation\": \"UTA\",\\n    \"teamName\": \"Utah Jazz\",\\n    \"simpleName\": \"Jazz\",\\n    \"location\": \"Utah\"\\n  },\\n  {\\n    \"teamId\": 1610612764,\\n    \"abbreviation\": \"WAS\",\\n    \"teamName\": \"Washington Wizards\",\\n    \"simpleName\": \"Wizards\",\\n    \"location\": \"Washington\"\\n  }\\n]'"
      ]
     },
     "execution_count": 4,
     "metadata": {},
     "output_type": "execute_result"
    }
   ],
   "source": [
    "respuesta.text"
   ]
  },
  {
   "cell_type": "markdown",
   "metadata": {},
   "source": [
    "Entonces guardando el str y luego aplicamos json.loads() devuelve una lista de diccionarios con los datos"
   ]
  },
  {
   "cell_type": "code",
   "execution_count": 5,
   "metadata": {},
   "outputs": [],
   "source": [
    "texto = respuesta.text\n",
    "json_data = json.loads(texto)"
   ]
  },
  {
   "cell_type": "code",
   "execution_count": 6,
   "metadata": {},
   "outputs": [
    {
     "data": {
      "text/html": [
       "<div>\n",
       "<style scoped>\n",
       "    .dataframe tbody tr th:only-of-type {\n",
       "        vertical-align: middle;\n",
       "    }\n",
       "\n",
       "    .dataframe tbody tr th {\n",
       "        vertical-align: top;\n",
       "    }\n",
       "\n",
       "    .dataframe thead th {\n",
       "        text-align: right;\n",
       "    }\n",
       "</style>\n",
       "<table border=\"1\" class=\"dataframe\">\n",
       "  <thead>\n",
       "    <tr style=\"text-align: right;\">\n",
       "      <th></th>\n",
       "      <th>teamId</th>\n",
       "      <th>abbreviation</th>\n",
       "      <th>teamName</th>\n",
       "      <th>simpleName</th>\n",
       "      <th>location</th>\n",
       "    </tr>\n",
       "  </thead>\n",
       "  <tbody>\n",
       "    <tr>\n",
       "      <th>0</th>\n",
       "      <td>1610612737</td>\n",
       "      <td>ATL</td>\n",
       "      <td>Atlanta Hawks</td>\n",
       "      <td>Hawks</td>\n",
       "      <td>Atlanta</td>\n",
       "    </tr>\n",
       "    <tr>\n",
       "      <th>1</th>\n",
       "      <td>1610612738</td>\n",
       "      <td>BOS</td>\n",
       "      <td>Boston Celtics</td>\n",
       "      <td>Celtics</td>\n",
       "      <td>Boston</td>\n",
       "    </tr>\n",
       "    <tr>\n",
       "      <th>2</th>\n",
       "      <td>1610612751</td>\n",
       "      <td>BKN</td>\n",
       "      <td>Brooklyn Nets</td>\n",
       "      <td>Nets</td>\n",
       "      <td>Brooklyn</td>\n",
       "    </tr>\n",
       "    <tr>\n",
       "      <th>3</th>\n",
       "      <td>1610612766</td>\n",
       "      <td>CHA</td>\n",
       "      <td>Charlotte Hornets</td>\n",
       "      <td>Hornets</td>\n",
       "      <td>Charlotte</td>\n",
       "    </tr>\n",
       "    <tr>\n",
       "      <th>4</th>\n",
       "      <td>1610612741</td>\n",
       "      <td>CHI</td>\n",
       "      <td>Chicago Bulls</td>\n",
       "      <td>Bulls</td>\n",
       "      <td>Chicago</td>\n",
       "    </tr>\n",
       "  </tbody>\n",
       "</table>\n",
       "</div>"
      ],
      "text/plain": [
       "       teamId abbreviation           teamName simpleName   location\n",
       "0  1610612737          ATL      Atlanta Hawks      Hawks    Atlanta\n",
       "1  1610612738          BOS     Boston Celtics    Celtics     Boston\n",
       "2  1610612751          BKN      Brooklyn Nets       Nets   Brooklyn\n",
       "3  1610612766          CHA  Charlotte Hornets    Hornets  Charlotte\n",
       "4  1610612741          CHI      Chicago Bulls      Bulls    Chicago"
      ]
     },
     "execution_count": 6,
     "metadata": {},
     "output_type": "execute_result"
    }
   ],
   "source": [
    "#Convertimos a df\n",
    "df = pd.DataFrame.from_dict(json_data)\n",
    "df.head()"
   ]
  }
 ],
 "metadata": {
  "kernelspec": {
   "display_name": "Python 3 (ipykernel)",
   "language": "python",
   "name": "python3"
  },
  "language_info": {
   "codemirror_mode": {
    "name": "ipython",
    "version": 3
   },
   "file_extension": ".py",
   "mimetype": "text/x-python",
   "name": "python",
   "nbconvert_exporter": "python",
   "pygments_lexer": "ipython3",
   "version": "3.9.12"
  },
  "varInspector": {
   "cols": {
    "lenName": 16,
    "lenType": 16,
    "lenVar": 40
   },
   "kernels_config": {
    "python": {
     "delete_cmd_postfix": "",
     "delete_cmd_prefix": "del ",
     "library": "var_list.py",
     "varRefreshCmd": "print(var_dic_list())"
    },
    "r": {
     "delete_cmd_postfix": ") ",
     "delete_cmd_prefix": "rm(",
     "library": "var_list.r",
     "varRefreshCmd": "cat(var_dic_list()) "
    }
   },
   "types_to_exclude": [
    "module",
    "function",
    "builtin_function_or_method",
    "instance",
    "_Feature"
   ],
   "window_display": false
  }
 },
 "nbformat": 4,
 "nbformat_minor": 4
}
