{
 "cells": [
  {
   "cell_type": "code",
   "execution_count": 1,
   "id": "f8074627",
   "metadata": {},
   "outputs": [
    {
     "name": "stdout",
     "output_type": "stream",
     "text": [
      "Título: sunt aut facere repellat provident occaecati excepturi optio reprehenderit\n",
      "Contenido: quia et suscipit\n",
      "suscipit recusandae consequuntur expedita et cum\n",
      "reprehenderit molestiae ut ut quas totam\n",
      "nostrum rerum est autem sunt rem eveniet architecto\n"
     ]
    }
   ],
   "source": [
    "import requests\n",
    "\n",
    "# URL de ejemplo que devuelve datos en formato JSON\n",
    "url = \"https://jsonplaceholder.typicode.com/posts/1\"\n",
    "\n",
    "try:\n",
    "    # Hacemos la solicitud GET\n",
    "    response = requests.get(url)\n",
    "    \n",
    "    # Comprobamos si la solicitud fue exitosa\n",
    "    if response.status_code == 200:\n",
    "        # Convertimos la respuesta a JSON\n",
    "        data = response.json()\n",
    "        \n",
    "        # Procesamos los datos JSON\n",
    "        # En este caso, mostramos el título y el contenido del post\n",
    "        print(\"Título:\", data.get(\"title\"))\n",
    "        print(\"Contenido:\", data.get(\"body\"))\n",
    "    else:\n",
    "        print(f\"Error: {response.status_code}\")\n",
    "        \n",
    "except requests.RequestException as e:\n",
    "    print(f\"Error en la solicitud: {e}\")"
   ]
  }
 ],
 "metadata": {
  "kernelspec": {
   "display_name": "Python 3 (ipykernel)",
   "language": "python",
   "name": "python3"
  },
  "language_info": {
   "codemirror_mode": {
    "name": "ipython",
    "version": 3
   },
   "file_extension": ".py",
   "mimetype": "text/x-python",
   "name": "python",
   "nbconvert_exporter": "python",
   "pygments_lexer": "ipython3",
   "version": "3.9.12"
  }
 },
 "nbformat": 4,
 "nbformat_minor": 5
}
