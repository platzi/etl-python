{
 "cells": [
  {
   "cell_type": "code",
   "execution_count": 2,
   "id": "f20c1e06-b094-4d42-800e-2203e21a2076",
   "metadata": {},
   "outputs": [],
   "source": [
    "import pandas as pd\n",
    "import sqlite3"
   ]
  },
  {
   "cell_type": "code",
   "execution_count": 3,
   "id": "cfaf2e92-bebb-4e61-97bb-e6de6da0d034",
   "metadata": {},
   "outputs": [],
   "source": [
    "#QUERY\n",
    "sql = \"SELECT name from sqlite_master where type = 'table'\""
   ]
  },
  {
   "cell_type": "code",
   "execution_count": 4,
   "id": "e3dcbdfe-07dc-45c0-be89-b6d592e2033d",
   "metadata": {},
   "outputs": [],
   "source": [
    "#Conexion\n",
    "con = sqlite3.connect(\"C:/Users/layla/Escritorio/Fundamentos de ETL con Python/Codigos y Notebooks/8. Ingesta de Datos desde Bases de Datos/nba_salary.sqlite\")"
   ]
  },
  {
   "cell_type": "code",
   "execution_count": 5,
   "id": "7c9663f9-e524-4969-b7d0-c74192304d0a",
   "metadata": {},
   "outputs": [],
   "source": [
    "#Creamos el df\n",
    "df = pd.read_sql_query(sql,con)"
   ]
  },
  {
   "cell_type": "code",
   "execution_count": 6,
   "id": "486b03e7-ccc9-4a36-91a3-0ce51880166f",
   "metadata": {},
   "outputs": [
    {
     "name": "stdout",
     "output_type": "stream",
     "text": [
      "                    name\n",
      "0  NBA_season1718_salary\n",
      "1          Seasons_Stats\n"
     ]
    }
   ],
   "source": [
    "print(df)"
   ]
  },
  {
   "cell_type": "code",
   "execution_count": 7,
   "id": "b46bcfe7-e51b-4a7f-baa5-dfe4f9a2766d",
   "metadata": {},
   "outputs": [
    {
     "name": "stdout",
     "output_type": "stream",
     "text": [
      "        X1          Player   Tm  season17_18\n",
      "0      1.0   Stephen Curry  GSW   34682550.0\n",
      "1      2.0    LeBron James  CLE   33285709.0\n",
      "2      3.0    Paul Millsap  DEN   31269231.0\n",
      "3      4.0  Gordon Hayward  BOS   29727900.0\n",
      "4      5.0   Blake Griffin  DET   29512900.0\n",
      "..     ...             ...  ...          ...\n",
      "568  569.0      Quinn Cook  NOP      25000.0\n",
      "569  570.0   Chris Johnson  HOU      25000.0\n",
      "570  571.0      Beno Udrih  DET      25000.0\n",
      "571  572.0   Joel Bolomboy  MIL      22248.0\n",
      "572  573.0    Jarell Eddie  CHI      17224.0\n",
      "\n",
      "[573 rows x 4 columns]\n"
     ]
    }
   ],
   "source": [
    "df_nba = pd.read_sql_query(\"SELECT * from NBA_season1718_salary\",con)\n",
    "print(df_nba)"
   ]
  },
  {
   "cell_type": "code",
   "execution_count": 8,
   "id": "1fe5f8e5-80ec-44c7-86d2-1507611cf671",
   "metadata": {},
   "outputs": [],
   "source": [
    "#SQLAlchemy!\n",
    "import sqlalchemy as db"
   ]
  },
  {
   "cell_type": "code",
   "execution_count": 10,
   "id": "d651c2ed-e59b-41ea-95a3-0ba36db0c51a",
   "metadata": {},
   "outputs": [],
   "source": [
    "#Conexion\n",
    "engine = db.create_engine('sqlite:///C:/Users/layla/Escritorio/Fundamentos de ETL con Python/Codigos y Notebooks/8. Ingesta de Datos desde Bases de Datos/nba_salary.sqlite')\n",
    "connection = engine.connect()"
   ]
  },
  {
   "cell_type": "code",
   "execution_count": 11,
   "id": "a241edb1-1fce-44a7-831a-256c6bf336cc",
   "metadata": {},
   "outputs": [
    {
     "name": "stdout",
     "output_type": "stream",
     "text": [
      "            X1    Year             Player  Pos   Age   Tm     G   GS      MP  \\\n",
      "0          0.0  1950.0    Curly Armstrong  G-F  31.0  FTW  63.0  NaN     NaN   \n",
      "1          1.0  1950.0       Cliff Barker   SG  29.0  INO  49.0  NaN     NaN   \n",
      "2          2.0  1950.0      Leo Barnhorst   SF  25.0  CHS  67.0  NaN     NaN   \n",
      "3          3.0  1950.0         Ed Bartels    F  24.0  TOT  15.0  NaN     NaN   \n",
      "4          4.0  1950.0         Ed Bartels    F  24.0  DNN  13.0  NaN     NaN   \n",
      "...        ...     ...                ...  ...   ...  ...   ...  ...     ...   \n",
      "24686  24686.0  2017.0        Cody Zeller   PF  24.0  CHO  62.0  NaN  1725.0   \n",
      "24687  24687.0  2017.0       Tyler Zeller    C  27.0  BOS  51.0  NaN   525.0   \n",
      "24688  24688.0  2017.0  Stephen Zimmerman    C  20.0  ORL  19.0  0.0   108.0   \n",
      "24689  24689.0  2017.0        Paul Zipser   SF  22.0  CHI  44.0  NaN   843.0   \n",
      "24690  24690.0  2017.0        Ivica Zubac    C  19.0  LAL  38.0  NaN   609.0   \n",
      "\n",
      "        PER  ...    FT%  ORB  DRB    TRB    AST  STL  BLK  TOV     PF    PTS  \n",
      "0       NaN  ...  0.705  NaN  NaN    NaN  176.0  NaN  NaN  NaN  217.0  458.0  \n",
      "1       NaN  ...  0.708  NaN  NaN    NaN  109.0  NaN  NaN  NaN   99.0  279.0  \n",
      "2       NaN  ...  0.698  NaN  NaN    NaN  140.0  NaN  NaN  NaN  192.0  438.0  \n",
      "3       NaN  ...  0.559  NaN  NaN    NaN   20.0  NaN  NaN  NaN   29.0   63.0  \n",
      "4       NaN  ...  0.548  NaN  NaN    NaN   20.0  NaN  NaN  NaN   27.0   59.0  \n",
      "...     ...  ...    ...  ...  ...    ...    ...  ...  ...  ...    ...    ...  \n",
      "24686  16.7  ...  0.679  NaN  NaN  405.0   99.0  NaN  NaN  NaN  189.0  639.0  \n",
      "24687  13.0  ...  0.564  NaN  NaN  124.0   42.0  NaN  NaN  NaN   61.0  178.0  \n",
      "24688   7.3  ...  0.600  NaN  NaN   35.0    4.0  NaN  NaN  NaN   17.0   23.0  \n",
      "24689   6.9  ...  0.775  NaN  NaN  125.0   36.0  NaN  NaN  NaN   78.0  240.0  \n",
      "24690  17.0  ...  0.653  NaN  NaN  159.0   30.0  NaN  NaN  NaN   66.0  284.0  \n",
      "\n",
      "[24691 rows x 53 columns]\n"
     ]
    }
   ],
   "source": [
    "import pandas as pd\n",
    "df_nba_sqlalchemy = pd.read_sql_query(\"SELECT * from Seasons_Stats\",connection)\n",
    "print(df_nba_sqlalchemy)"
   ]
  },
  {
   "cell_type": "code",
   "execution_count": 12,
   "id": "50db8666-e3d3-411a-853f-f8648d4f4062",
   "metadata": {},
   "outputs": [],
   "source": [
    "#Consultas!\n",
    "df_Curly = pd.read_sql_query(\"SELECT * from Seasons_Stats where Player = 'Curly Armstrong'\",connection)"
   ]
  },
  {
   "cell_type": "code",
   "execution_count": 13,
   "id": "32d97663-607d-42e1-b054-b8ee274c206b",
   "metadata": {},
   "outputs": [
    {
     "data": {
      "text/html": [
       "<div>\n",
       "<style scoped>\n",
       "    .dataframe tbody tr th:only-of-type {\n",
       "        vertical-align: middle;\n",
       "    }\n",
       "\n",
       "    .dataframe tbody tr th {\n",
       "        vertical-align: top;\n",
       "    }\n",
       "\n",
       "    .dataframe thead th {\n",
       "        text-align: right;\n",
       "    }\n",
       "</style>\n",
       "<table border=\"1\" class=\"dataframe\">\n",
       "  <thead>\n",
       "    <tr style=\"text-align: right;\">\n",
       "      <th></th>\n",
       "      <th>X1</th>\n",
       "      <th>Year</th>\n",
       "      <th>Player</th>\n",
       "      <th>Pos</th>\n",
       "      <th>Age</th>\n",
       "      <th>Tm</th>\n",
       "      <th>G</th>\n",
       "      <th>GS</th>\n",
       "      <th>MP</th>\n",
       "      <th>PER</th>\n",
       "      <th>...</th>\n",
       "      <th>FT%</th>\n",
       "      <th>ORB</th>\n",
       "      <th>DRB</th>\n",
       "      <th>TRB</th>\n",
       "      <th>AST</th>\n",
       "      <th>STL</th>\n",
       "      <th>BLK</th>\n",
       "      <th>TOV</th>\n",
       "      <th>PF</th>\n",
       "      <th>PTS</th>\n",
       "    </tr>\n",
       "  </thead>\n",
       "  <tbody>\n",
       "    <tr>\n",
       "      <th>0</th>\n",
       "      <td>0.0</td>\n",
       "      <td>1950.0</td>\n",
       "      <td>Curly Armstrong</td>\n",
       "      <td>G-F</td>\n",
       "      <td>31.0</td>\n",
       "      <td>FTW</td>\n",
       "      <td>63.0</td>\n",
       "      <td>None</td>\n",
       "      <td>None</td>\n",
       "      <td>None</td>\n",
       "      <td>...</td>\n",
       "      <td>0.705</td>\n",
       "      <td>None</td>\n",
       "      <td>None</td>\n",
       "      <td>NaN</td>\n",
       "      <td>176.0</td>\n",
       "      <td>None</td>\n",
       "      <td>None</td>\n",
       "      <td>None</td>\n",
       "      <td>217.0</td>\n",
       "      <td>458.0</td>\n",
       "    </tr>\n",
       "    <tr>\n",
       "      <th>1</th>\n",
       "      <td>314.0</td>\n",
       "      <td>1951.0</td>\n",
       "      <td>Curly Armstrong</td>\n",
       "      <td>G-F</td>\n",
       "      <td>32.0</td>\n",
       "      <td>FTW</td>\n",
       "      <td>38.0</td>\n",
       "      <td>None</td>\n",
       "      <td>None</td>\n",
       "      <td>None</td>\n",
       "      <td>...</td>\n",
       "      <td>0.644</td>\n",
       "      <td>None</td>\n",
       "      <td>None</td>\n",
       "      <td>89.0</td>\n",
       "      <td>77.0</td>\n",
       "      <td>None</td>\n",
       "      <td>None</td>\n",
       "      <td>None</td>\n",
       "      <td>97.0</td>\n",
       "      <td>202.0</td>\n",
       "    </tr>\n",
       "  </tbody>\n",
       "</table>\n",
       "<p>2 rows × 53 columns</p>\n",
       "</div>"
      ],
      "text/plain": [
       "      X1    Year           Player  Pos   Age   Tm     G    GS    MP   PER  \\\n",
       "0    0.0  1950.0  Curly Armstrong  G-F  31.0  FTW  63.0  None  None  None   \n",
       "1  314.0  1951.0  Curly Armstrong  G-F  32.0  FTW  38.0  None  None  None   \n",
       "\n",
       "   ...    FT%   ORB   DRB   TRB    AST   STL   BLK   TOV     PF    PTS  \n",
       "0  ...  0.705  None  None   NaN  176.0  None  None  None  217.0  458.0  \n",
       "1  ...  0.644  None  None  89.0   77.0  None  None  None   97.0  202.0  \n",
       "\n",
       "[2 rows x 53 columns]"
      ]
     },
     "execution_count": 13,
     "metadata": {},
     "output_type": "execute_result"
    }
   ],
   "source": [
    "df_Curly"
   ]
  },
  {
   "cell_type": "code",
   "execution_count": 14,
   "id": "6ad493dd-5b01-474c-a9b7-d75246904515",
   "metadata": {},
   "outputs": [
    {
     "data": {
      "text/plain": [
       "np.float64(510.1163499025341)"
      ]
     },
     "execution_count": 14,
     "metadata": {},
     "output_type": "execute_result"
    }
   ],
   "source": [
    "prom_PTS = df_nba_sqlalchemy['PTS'].mean() \n",
    "prom_PTS"
   ]
  }
 ],
 "metadata": {
  "kernelspec": {
   "display_name": "Python 3 (ipykernel)",
   "language": "python",
   "name": "python3"
  },
  "language_info": {
   "codemirror_mode": {
    "name": "ipython",
    "version": 3
   },
   "file_extension": ".py",
   "mimetype": "text/x-python",
   "name": "python",
   "nbconvert_exporter": "python",
   "pygments_lexer": "ipython3",
   "version": "3.12.7"
  }
 },
 "nbformat": 4,
 "nbformat_minor": 5
}
