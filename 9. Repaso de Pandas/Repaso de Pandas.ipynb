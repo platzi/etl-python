{
 "cells": [
  {
   "cell_type": "markdown",
   "id": "9985f12b",
   "metadata": {},
   "source": [
    "# Repaso de Pandas: Estructuras de datos - Series y DataFrames\n",
    "\n",
    "## Introducción a Pandas\n",
    "Pandas es una librería en Python diseñada para la manipulación y análisis de datos estructurados. En esta clase repasaremos las dos estructuras de datos fundamentales en Pandas: **Series** y **DataFrames**."
   ]
  },
  {
   "cell_type": "markdown",
   "id": "3dbea490",
   "metadata": {},
   "source": [
    "### Estructura de una Serie en Pandas\n",
    "Una Serie es una estructura unidimensional, similar a una lista o un array de NumPy"
   ]
  },
  {
   "cell_type": "code",
   "execution_count": 2,
   "id": "e88dd866",
   "metadata": {},
   "outputs": [
    {
     "name": "stdout",
     "output_type": "stream",
     "text": [
      "Serie:\n",
      "0    10\n",
      "1    20\n",
      "2    30\n",
      "3    40\n",
      "4    50\n",
      "dtype: int64\n",
      "\n",
      "Serie con índices personalizados:\n",
      "a    10\n",
      "b    20\n",
      "c    30\n",
      "d    40\n",
      "e    50\n",
      "dtype: int64\n",
      "\n",
      "Acceder al valor con índice 'c':\n",
      "30\n",
      "\n",
      "Suma de 5 a cada elemento de la Serie:\n",
      "0    15\n",
      "1    25\n",
      "2    35\n",
      "3    45\n",
      "4    55\n",
      "dtype: int64\n",
      "\n",
      "Acceder a un rango de valores usando índices:\n",
      "b    20\n",
      "c    30\n",
      "d    40\n",
      "dtype: int64\n"
     ]
    }
   ],
   "source": [
    "import pandas as pd \n",
    "\n",
    "# Crear una Serie a partir de una lista\n",
    "serie = pd.Series([10, 20, 30, 40, 50])\n",
    "\n",
    "# Mostrar la Serie\n",
    "print(\"Serie:\")\n",
    "print(serie)\n",
    "\n",
    "# Crear una Serie con índices personalizados\n",
    "serie_con_indices = pd.Series([10, 20, 30, 40, 50], index=[\"a\", \"b\", \"c\", \"d\", \"e\"])\n",
    "\n",
    "# Mostrar la Serie con índices personalizados\n",
    "print(\"\\nSerie con índices personalizados:\")\n",
    "print(serie_con_indices)\n",
    "\n",
    "# Acceder a un valor por índice\n",
    "print(\"\\nAcceder al valor con índice 'c':\")\n",
    "print(serie_con_indices[\"c\"])\n",
    "\n",
    "# Realizar operaciones aritméticas con Series\n",
    "print(\"\\nSuma de 5 a cada elemento de la Serie:\")\n",
    "print(serie + 5)\n",
    "\n",
    "# Acceder a un rango de valores (por índice)\n",
    "print(\"\\nAcceder a un rango de valores usando índices:\")\n",
    "print(serie_con_indices[[\"b\", \"c\", \"d\"]])"
   ]
  },
  {
   "cell_type": "markdown",
   "id": "9a9d165c",
   "metadata": {},
   "source": [
    "### Estructura de un DataFrame en Pandas\n",
    "Un DataFrame es una estructura bidimensional (una tabla) que puede contener múltiples columnas de diferentes tipos de datos.\n"
   ]
  },
  {
   "cell_type": "code",
   "execution_count": 4,
   "id": "4baa3c66",
   "metadata": {},
   "outputs": [
    {
     "name": "stdout",
     "output_type": "stream",
     "text": [
      "\n",
      "DataFrame:\n",
      "  Nombre  Edad     Ciudad\n",
      "0    Ana    23     Madrid\n",
      "1   Luis    30  Barcelona\n",
      "2  Pedro    35   Valencia\n",
      "3  Maria    40    Sevilla\n",
      "4   Juan    25    Granada\n",
      "\n",
      "Columna 'Edad':\n",
      "0    23\n",
      "1    30\n",
      "2    35\n",
      "3    40\n",
      "4    25\n",
      "Name: Edad, dtype: int64\n",
      "\n",
      "Fila 2 (por posición):\n",
      "Nombre       Pedro\n",
      "Edad            35\n",
      "Ciudad    Valencia\n",
      "Name: 2, dtype: object\n",
      "\n",
      "Fila con índice 3 (por etiqueta):\n",
      "Nombre      Maria\n",
      "Edad           40\n",
      "Ciudad    Sevilla\n",
      "Name: 3, dtype: object\n",
      "\n",
      "Filtrar personas mayores de 30 años:\n",
      "  Nombre  Edad    Ciudad\n",
      "2  Pedro    35  Valencia\n",
      "3  Maria    40   Sevilla\n",
      "\n",
      "DataFrame con nueva columna 'Salario':\n",
      "  Nombre  Edad     Ciudad  Salario\n",
      "0    Ana    23     Madrid    50000\n",
      "1   Luis    30  Barcelona    60000\n",
      "2  Pedro    35   Valencia    70000\n",
      "3  Maria    40    Sevilla    80000\n",
      "4   Juan    25    Granada    55000\n",
      "\n",
      "DataFrame con 'Salario Futuro':\n",
      "  Nombre  Edad     Ciudad  Salario  Salario Futuro\n",
      "0    Ana    23     Madrid    50000         55000.0\n",
      "1   Luis    30  Barcelona    60000         66000.0\n",
      "2  Pedro    35   Valencia    70000         77000.0\n",
      "3  Maria    40    Sevilla    80000         88000.0\n",
      "4   Juan    25    Granada    55000         60500.0\n"
     ]
    }
   ],
   "source": [
    "import pandas as pd \n",
    "\n",
    "# Crear un DataFrame a partir de un diccionario\n",
    "datos = {\n",
    "    \"Nombre\": [\"Ana\", \"Luis\", \"Pedro\", \"Maria\", \"Juan\"],\n",
    "    \"Edad\": [23, 30, 35, 40, 25],\n",
    "    \"Ciudad\": [\"Madrid\", \"Barcelona\", \"Valencia\", \"Sevilla\", \"Granada\"]\n",
    "}\n",
    "\n",
    "df = pd.DataFrame(datos)\n",
    "\n",
    "# Mostrar el DataFrame\n",
    "print(\"\\nDataFrame:\")\n",
    "print(df)\n",
    "\n",
    "# Acceder a una columna del DataFrame\n",
    "print(\"\\nColumna 'Edad':\")\n",
    "print(df[\"Edad\"])\n",
    "\n",
    "# Acceder a una fila por su índice (por posición)\n",
    "print(\"\\nFila 2 (por posición):\")\n",
    "print(df.iloc[2])\n",
    "\n",
    "# Acceder a una fila por su índice de etiqueta\n",
    "print(\"\\nFila con índice 3 (por etiqueta):\")\n",
    "print(df.loc[3])\n",
    "\n",
    "# Filtrar filas con una condición (mayores de 30 años)\n",
    "print(\"\\nFiltrar personas mayores de 30 años:\")\n",
    "print(df[df[\"Edad\"] > 30])\n",
    "\n",
    "# Crear una nueva columna en el DataFrame\n",
    "df[\"Salario\"] = [50000, 60000, 70000, 80000, 55000]\n",
    "print(\"\\nDataFrame con nueva columna 'Salario':\")\n",
    "print(df)\n",
    "\n",
    "# Realizar operaciones en varias columnas (ejemplo: calcular el salario en 10 años)\n",
    "df[\"Salario Futuro\"] = df[\"Salario\"] * 1.1  # Aumentamos un 10% al salario\n",
    "print(\"\\nDataFrame con 'Salario Futuro':\")\n",
    "print(df)\n"
   ]
  },
  {
   "cell_type": "markdown",
   "id": "e873f82b",
   "metadata": {},
   "source": [
    "###  Ejercicios prácticos\n",
    "\n",
    "Ejercicio 1: Crear una Serie con los valores [100, 200, 300, 400, 500] y realizar las siguientes operaciones:\n",
    " 1. Sumar 10 a cada elemento.\n",
    " 2. Acceder al tercer valor usando el índice."
   ]
  },
  {
   "cell_type": "code",
   "execution_count": 6,
   "id": "5dc685a7",
   "metadata": {},
   "outputs": [
    {
     "name": "stdout",
     "output_type": "stream",
     "text": [
      "\n",
      "Ejercicio 1 - Serie:\n",
      "0    100\n",
      "1    200\n",
      "2    300\n",
      "3    400\n",
      "4    500\n",
      "dtype: int64\n"
     ]
    }
   ],
   "source": [
    "# Solución del Ejercicio 1:\n",
    "serie_ejercicio1 = pd.Series([100, 200, 300, 400, 500])\n",
    "print(\"\\nEjercicio 1 - Serie:\")\n",
    "print(serie_ejercicio1)"
   ]
  },
  {
   "cell_type": "code",
   "execution_count": 8,
   "id": "fd72d220",
   "metadata": {},
   "outputs": [
    {
     "name": "stdout",
     "output_type": "stream",
     "text": [
      "\n",
      "Suma de 10 a cada elemento de la Serie:\n",
      "0    110\n",
      "1    210\n",
      "2    310\n",
      "3    410\n",
      "4    510\n",
      "dtype: int64\n",
      "\n",
      "Acceder al tercer valor de la Serie (índice 2):\n",
      "300\n"
     ]
    }
   ],
   "source": [
    "# Sumar 10 a cada elemento\n",
    "print(\"\\nSuma de 10 a cada elemento de la Serie:\")\n",
    "print(serie_ejercicio1 + 10)\n",
    "\n",
    "# Acceder al tercer valor usando el índice\n",
    "print(\"\\nAcceder al tercer valor de la Serie (índice 2):\")\n",
    "print(serie_ejercicio1[2])"
   ]
  },
  {
   "cell_type": "markdown",
   "id": "9a9335dd",
   "metadata": {},
   "source": [
    "Ejercicio 2: Crear un DataFrame con tres columnas: \"Producto\", \"Precio\", \"Cantidad\". Luego:\n",
    "  1. Filtrar los productos cuyo precio sea mayor a 50.\n",
    "  2. Crear una nueva columna llamada \"Total\", que sea el resultado de multiplicar el precio por la cantidad."
   ]
  },
  {
   "cell_type": "code",
   "execution_count": 10,
   "id": "bd6bd42b",
   "metadata": {},
   "outputs": [
    {
     "name": "stdout",
     "output_type": "stream",
     "text": [
      "\n",
      "Ejercicio 2 - DataFrame de productos:\n",
      "     Producto  Precio  Cantidad\n",
      "0  Producto A      30         5\n",
      "1  Producto B      60         2\n",
      "2  Producto C      45         8\n",
      "3  Producto D      80         3\n",
      "4  Producto E      20        10\n",
      "\n",
      "Filtrar productos con precio mayor a 50:\n",
      "     Producto  Precio  Cantidad\n",
      "1  Producto B      60         2\n",
      "3  Producto D      80         3\n",
      "\n",
      "DataFrame con la nueva columna 'Total':\n",
      "     Producto  Precio  Cantidad  Total\n",
      "0  Producto A      30         5    150\n",
      "1  Producto B      60         2    120\n",
      "2  Producto C      45         8    360\n",
      "3  Producto D      80         3    240\n",
      "4  Producto E      20        10    200\n"
     ]
    }
   ],
   "source": [
    "# Solución del Ejercicio 2:\n",
    "df_ejercicio2 = pd.DataFrame({\n",
    "    \"Producto\": [\"Producto A\", \"Producto B\", \"Producto C\", \"Producto D\", \"Producto E\"],\n",
    "    \"Precio\": [30, 60, 45, 80, 20],\n",
    "    \"Cantidad\": [5, 2, 8, 3, 10]\n",
    "})\n",
    "\n",
    "print(\"\\nEjercicio 2 - DataFrame de productos:\")\n",
    "print(df_ejercicio2)\n",
    "\n",
    "# Filtrar productos cuyo precio sea mayor a 50\n",
    "print(\"\\nFiltrar productos con precio mayor a 50:\")\n",
    "print(df_ejercicio2[df_ejercicio2[\"Precio\"] > 50])\n",
    "\n",
    "# Crear una nueva columna 'Total' (Precio * Cantidad)\n",
    "df_ejercicio2[\"Total\"] = df_ejercicio2[\"Precio\"] * df_ejercicio2[\"Cantidad\"]\n",
    "print(\"\\nDataFrame con la nueva columna 'Total':\")\n",
    "print(df_ejercicio2)"
   ]
  }
 ],
 "metadata": {
  "kernelspec": {
   "display_name": "Python 3 (ipykernel)",
   "language": "python",
   "name": "python3"
  },
  "language_info": {
   "codemirror_mode": {
    "name": "ipython",
    "version": 3
   },
   "file_extension": ".py",
   "mimetype": "text/x-python",
   "name": "python",
   "nbconvert_exporter": "python",
   "pygments_lexer": "ipython3",
   "version": "3.12.7"
  }
 },
 "nbformat": 4,
 "nbformat_minor": 5
}
