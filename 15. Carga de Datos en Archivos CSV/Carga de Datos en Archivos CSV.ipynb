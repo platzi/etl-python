{
 "cells": [
  {
   "cell_type": "code",
   "execution_count": 1,
   "id": "b614c22b-95d4-47ef-93d8-9b4ec5e4ba3d",
   "metadata": {},
   "outputs": [
    {
     "name": "stdout",
     "output_type": "stream",
     "text": [
      "   Unnamed: 0  Nombre  Edad     Ciudad\n",
      "0           0    Juan    28     Madrid\n",
      "1           1     Ana    34  Barcelona\n",
      "2           2   Pedro    23    Sevilla\n",
      "3           3   Luisa    45   Valencia\n",
      "4           4  Carlos    33     Bilbao\n"
     ]
    }
   ],
   "source": [
    "import pandas as pd\n",
    "\n",
    "# Crear un conjunto de datos ficticio\n",
    "data = {\n",
    "    'Nombre': ['Juan', 'Ana', 'Pedro', 'Luisa', 'Carlos'],\n",
    "    'Edad': [28, 34, 23, 45, 33],\n",
    "    'Ciudad': ['Madrid', 'Barcelona', 'Sevilla', 'Valencia', 'Bilbao']\n",
    "}\n",
    "\n",
    "# Crear el DataFrame\n",
    "df = pd.DataFrame(data)\n",
    "\n",
    "# 1. Guardar el DataFrame en un archivo CSV (sin index=False)\n",
    "df.to_csv('datos.csv')\n",
    "\n",
    "# 2. Guardar el CSV con un delimitador personalizado (punto y coma)\n",
    "df.to_csv('datos_punto_coma.csv', sep=';')\n",
    "\n",
    "# 3. Guardar solo algunas columnas (por ejemplo, 'Nombre' y 'Edad')\n",
    "df.to_csv('datos_nombre_edad.csv', columns=['Nombre', 'Edad'])\n",
    "\n",
    "# 4. Guardar el CSV con codificación UTF-8\n",
    "df.to_csv('datos_utf8.csv', encoding='utf-8')\n",
    "\n",
    "# 5. Guardar en un archivo CSV comprimido (gzip)\n",
    "df.to_csv('datos_comprimidos.csv.gz', compression='gzip')\n",
    "\n",
    "# 6. Guardar en un archivo CSV comprimido (zip)\n",
    "df.to_csv('datos_comprimidos.zip', compression='zip')\n",
    "\n",
    "# 7. Leer el archivo CSV guardado y mostrarlo\n",
    "df_leido = pd.read_csv('datos.csv')\n",
    "print(df_leido)"
   ]
  }
 ],
 "metadata": {
  "kernelspec": {
   "display_name": "Python 3 (ipykernel)",
   "language": "python",
   "name": "python3"
  },
  "language_info": {
   "codemirror_mode": {
    "name": "ipython",
    "version": 3
   },
   "file_extension": ".py",
   "mimetype": "text/x-python",
   "name": "python",
   "nbconvert_exporter": "python",
   "pygments_lexer": "ipython3",
   "version": "3.12.7"
  }
 },
 "nbformat": 4,
 "nbformat_minor": 5
}
